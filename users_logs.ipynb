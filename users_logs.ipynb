{
 "cells": [
  {
   "cell_type": "markdown",
   "id": "39cd0893",
   "metadata": {},
   "source": [
    "1. найти число событий в конкретный день"
   ]
  },
  {
   "cell_type": "markdown",
   "id": "511f8358",
   "metadata": {},
   "source": [
    "Это при условии, что файл в той же директории, что и код"
   ]
  },
  {
   "cell_type": "code",
   "execution_count": 102,
   "id": "79b59d79",
   "metadata": {},
   "outputs": [],
   "source": [
    "import pandas as pd\n",
    "from datetime import datetime, timedelta\n",
    "\n",
    "def count_sessions():\n",
    "    '''Функция подсчета количества сессий'''\n",
    "    # Открыть файл для чтения\n",
    "    with open('log.csv', 'r') as f:\n",
    "        # Чтение файла формата csv\n",
    "        df = pd.read_csv(f)\n",
    "        # Преобразование времени в формат datetime\n",
    "        df['date'] = pd.to_datetime(df['date'], format='%Y-%m-%d_%H:%M:%S')\n",
    "        # Сортировка по пользователю и времени\n",
    "        df = df.sort_values(['user', 'date'])\n",
    "        # Вычисление разницы между событиями пользователя\n",
    "        df['time_diff'] = df.groupby('user')['date'].diff()\n",
    "        # Определяем начало новых сессий (первый эвент пользователя или разница >= 30 минут)\n",
    "        df['new_session'] = (df['time_diff'].isna()) | (df['time_diff'] >= timedelta(minutes=30))\n",
    "        # Считаем сессии, начавшиеся 2020-04-19\n",
    "        target_date = pd.to_datetime('2020-04-19').date()\n",
    "        # Условие на новую сессию пользователя в нужную дату\n",
    "        sessions_count = df[df['new_session'] & (df['date'].dt.date == target_date)].shape[0]\n",
    "        return sessions_count, df"
   ]
  },
  {
   "cell_type": "code",
   "execution_count": 103,
   "id": "7b00367f",
   "metadata": {},
   "outputs": [
    {
     "name": "stdout",
     "output_type": "stream",
     "text": [
      "6251\n"
     ]
    }
   ],
   "source": [
    "print(count_sessions()[0])"
   ]
  },
  {
   "cell_type": "markdown",
   "id": "91d4b0a6",
   "metadata": {},
   "source": [
    "Для ссылки надо будет написать через requests. Поскольку прямая ссылка на Яндекс.Диск ведет на HTML-страницу с капчей, то чтобы\\\n",
    "получить сам файл, нужно использовать API Яндекс.Диска"
   ]
  },
  {
   "cell_type": "code",
   "execution_count": 104,
   "id": "cb6d3df8",
   "metadata": {},
   "outputs": [],
   "source": [
    "import requests\n",
    "from io import StringIO\n",
    "\n",
    "def count_sessions_url():\n",
    "    '''Функиця для подсчета количества сессий по ссылке на файл Яндекс.Диска'''\n",
    "    # Ссылка. Увидеть ее можно, перейдя по ссылке в README.md, появится https://disk.yandex.ru/d/nGRwE9x0n9YEY\n",
    "    # Префикс перед ней - как раз и есть работа с API\n",
    "    url = 'https://getfile.dokpub.com/yandex/get/https://disk.yandex.ru/d/nGRwE9x0n9YEYA'\n",
    "    response = requests.get(url)\n",
    "    data = pd.read_csv(StringIO(response.text))\n",
    "    # На этом содержательное измнение заканчивается\n",
    "    # Преобразование времени в формат datetime\n",
    "    data['date'] = pd.to_datetime(data['date'], format='%Y-%m-%d_%H:%M:%S')\n",
    "    # Сортировка по пользователю и времени\n",
    "    data = data.sort_values(['user', 'date'])\n",
    "    # Вычисление разницы между событиями пользователя\n",
    "    data['time_diff'] = data.groupby('user')['date'].diff()\n",
    "    # Определяем начало новых сессий (первый эвент пользователя или разница >= 30 минут)\n",
    "    data['new_session'] = (data['time_diff'].isna()) | (data['time_diff'] >= timedelta(minutes=30))\n",
    "    # Считаем сессии, начавшиеся 2020-04-19\n",
    "    target_date = pd.to_datetime('2020-04-19').date()\n",
    "    # Условие на новую сессию пользователя в нужную дату\n",
    "    sessions_count = data[data['new_session'] & (data['date'].dt.date == target_date)].shape[0]\n",
    "    return sessions_count, data"
   ]
  },
  {
   "cell_type": "code",
   "execution_count": null,
   "id": "ca683c01",
   "metadata": {},
   "outputs": [],
   "source": [
    "print(count_sessions_url()[0])"
   ]
  },
  {
   "cell_type": "markdown",
   "id": "c4926d7b",
   "metadata": {},
   "source": [
    "Тут подробнее про API [клац](https://github.com/resources/articles/software-development/what-is-an-api?ysclid=md1p12crm4542903030)"
   ]
  },
  {
   "cell_type": "markdown",
   "id": "10364d23",
   "metadata": {},
   "source": [
    "На глаз можно ошибиться в цифрах, поэтому пусть решит компилятор, одинаковый ответ или нет"
   ]
  },
  {
   "cell_type": "code",
   "execution_count": null,
   "id": "5d9a6a83",
   "metadata": {},
   "outputs": [],
   "source": [
    "print(count_sessions_url()[0] ==  count_sessions()[0])"
   ]
  },
  {
   "cell_type": "markdown",
   "id": "cd13d37c",
   "metadata": {},
   "source": [
    "2. найти день, когда больше всего пользователей смотрели видео"
   ]
  },
  {
   "cell_type": "code",
   "execution_count": null,
   "id": "c336fff5",
   "metadata": {},
   "outputs": [],
   "source": [
    "# Присвоение прочитанного файла в результате работы первой функции\n",
    "data = count_sessions()[1]\n",
    "# Условие на событие = 2 или параметр = video, удаляет дубликаты в столбцах с датой сессии и пользователем\n",
    "video = data[(data['event_type'] == 2) & (data['parameter'] == 'video')]\n",
    "video['day'] = video['date'].dt.date\n",
    "# Группировка по дате, поиск уникального значения в столбце пользователей, вывод максимального количества уникальных пользователей\n",
    "print('Максимум:\\t', video.groupby('day')['user'].nunique().max())"
   ]
  },
  {
   "cell_type": "markdown",
   "id": "bebb6403",
   "metadata": {},
   "source": [
    "3. найти 5-и минутный интервал, в котором произошло больше всего событий"
   ]
  },
  {
   "cell_type": "code",
   "execution_count": null,
   "id": "4f56f5f3",
   "metadata": {},
   "outputs": [],
   "source": [
    "# Преобразование дат в список по возрастанию часа\n",
    "times = data['date'].sort_values().tolist()\n",
    "# Максимальное количество и значение левой части интервала вначале присваивается нулю\n",
    "max_count = left = 0\n",
    "# Переменная содержит начало наиболее активного 5-и минутного интервала\n",
    "best_start = None\n",
    "# Right - индекс текущего интервала, time - текущее значение даты/времени\n",
    "for right, time in enumerate(times):\n",
    "    # В рассматриваемом интервале [left, right] все временные метки укладываются в 5 минут\n",
    "    while time - times[left] >= timedelta(minutes=5):\n",
    "        # Сдвигает левую границу (left), пока разница между текущим временем (time) и временем на \n",
    "        # левой границе (times[left]) не станет меньше 5 минут\n",
    "        left += 1\n",
    "    # Вычисляет количество элементов в текущем интервале (count = right - left + 1)\n",
    "    if (count := right - left + 1) >= max_count:\n",
    "        # Если это количество больше или равно текущему максимуму, обновляет max_count \n",
    "        # и запоминает начало интервала (best_start = times[left])\n",
    "        max_count, best_start = count, times[left]\n",
    "best_start.strftime('%Y-%m-%d_%H:%M:%S')"
   ]
  }
 ],
 "metadata": {
  "kernelspec": {
   "display_name": "Python 3",
   "language": "python",
   "name": "python3"
  },
  "language_info": {
   "codemirror_mode": {
    "name": "ipython",
    "version": 3
   },
   "file_extension": ".py",
   "mimetype": "text/x-python",
   "name": "python",
   "nbconvert_exporter": "python",
   "pygments_lexer": "ipython3",
   "version": "3.12.4"
  }
 },
 "nbformat": 4,
 "nbformat_minor": 5
}

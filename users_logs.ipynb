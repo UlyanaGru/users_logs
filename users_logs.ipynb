{
 "cells": [
  {
   "cell_type": "markdown",
   "id": "39cd0893",
   "metadata": {},
   "source": [
    "1. найти число событий в конкретный день"
   ]
  },
  {
   "cell_type": "markdown",
   "id": "511f8358",
   "metadata": {},
   "source": [
    "Это при условии, что файл в той же директории, что и код"
   ]
  },
  {
   "cell_type": "code",
   "execution_count": 39,
   "id": "79b59d79",
   "metadata": {},
   "outputs": [],
   "source": [
    "import pandas as pd\n",
    "from datetime import datetime, timedelta\n",
    "\n",
    "def count_sessions():\n",
    "    '''Функция подсчета количества сессий'''\n",
    "    # Открыть файл для чтения\n",
    "    with open('log.csv', 'r') as f:\n",
    "        # Чтение файла формата csv\n",
    "        df = pd.read_csv(f)\n",
    "        # Преобразование времени в формат datetime\n",
    "        df['date'] = pd.to_datetime(df['date'], format='%Y-%m-%d_%H:%M:%S')\n",
    "        # Сортировка по пользователю и времени\n",
    "        df = df.sort_values(['user', 'date'])\n",
    "        # Вычисление разницы между событиями пользователя\n",
    "        df['time_diff'] = df.groupby('user')['date'].diff()\n",
    "        # Определяем начало новых сессий (первый эвент пользователя или разница > 30 минут)\n",
    "        df['new_session'] = (df['time_diff'].isna()) | (df['time_diff'] > timedelta(minutes=30))\n",
    "        # Считаем сессии, начавшиеся 2020-04-19\n",
    "        target_date = pd.to_datetime('2020-04-19').date()\n",
    "        # Условие на новую сессию пользователя в нужную дату\n",
    "        sessions_count = df[df['new_session'] & (df['date'].dt.date == target_date)].shape[0]\n",
    "        return sessions_count, df"
   ]
  },
  {
   "cell_type": "code",
   "execution_count": 40,
   "id": "7b00367f",
   "metadata": {},
   "outputs": [
    {
     "name": "stdout",
     "output_type": "stream",
     "text": [
      "5256\n"
     ]
    }
   ],
   "source": [
    "print(count_sessions()[0])"
   ]
  },
  {
   "cell_type": "markdown",
   "id": "91d4b0a6",
   "metadata": {},
   "source": [
    "Для ссылки надо будет написать через requests. Поскольку прямая ссылка на Яндекс.Диск ведет на HTML-страницу с капчей, то чтобы\\\n",
    "получить сам файл, нужно использовать API Яндекс.Диска"
   ]
  },
  {
   "cell_type": "code",
   "execution_count": 41,
   "id": "cb6d3df8",
   "metadata": {},
   "outputs": [],
   "source": [
    "import requests\n",
    "from io import StringIO\n",
    "\n",
    "def count_sessions_url():\n",
    "    '''Функиця для подсчета количества сессий по ссылке на файл Яндекс.Диска'''\n",
    "    # Ссылка. Увидеть ее можно, перейдя по ссылке в README.md, появится https://disk.yandex.ru/d/nGRwE9x0n9YEY\n",
    "    # Префикс перед ней - как раз и есть работа с API\n",
    "    url = 'https://getfile.dokpub.com/yandex/get/https://disk.yandex.ru/d/nGRwE9x0n9YEYA'\n",
    "    response = requests.get(url)\n",
    "    data = pd.read_csv(StringIO(response.text))\n",
    "    # На этом содержательное измнение заканчивается\n",
    "    # Преобразование времени в формат datetime\n",
    "    data['date'] = pd.to_datetime(data['date'], format='%Y-%m-%d_%H:%M:%S')\n",
    "    # Сортировка по пользователю и времени\n",
    "    data = data.sort_values(['user', 'date'])\n",
    "    # Вычисление разницы между событиями пользователя\n",
    "    data['time_diff'] = data.groupby('user')['date'].diff()\n",
    "    # Определяем начало новых сессий (первый эвент пользователя или разница > 30 минут)\n",
    "    data['new_session'] = (data['time_diff'].isna()) | (data['time_diff'] > timedelta(minutes=30))\n",
    "    # Считаем сессии, начавшиеся 2020-04-19\n",
    "    target_date = pd.to_datetime('2020-04-19').date()\n",
    "    # Условие на новую сессию пользователя в нужную дату\n",
    "    sessions_count = data[data['new_session'] & (data['date'].dt.date == target_date)].shape[0]\n",
    "    return sessions_count, data"
   ]
  },
  {
   "cell_type": "code",
   "execution_count": 42,
   "id": "ca683c01",
   "metadata": {},
   "outputs": [
    {
     "name": "stdout",
     "output_type": "stream",
     "text": [
      "5256\n"
     ]
    }
   ],
   "source": [
    "print(count_sessions_url()[0])"
   ]
  },
  {
   "cell_type": "markdown",
   "id": "c4926d7b",
   "metadata": {},
   "source": [
    "Тут подробнее про API [клац](https://github.com/resources/articles/software-development/what-is-an-api?ysclid=md1p12crm4542903030)"
   ]
  },
  {
   "cell_type": "markdown",
   "id": "10364d23",
   "metadata": {},
   "source": [
    "На глаз можно ошибиться в цифрах, поэтому пусть решит компилятор, одинаковый ответ или нет"
   ]
  },
  {
   "cell_type": "code",
   "execution_count": 43,
   "id": "5d9a6a83",
   "metadata": {},
   "outputs": [
    {
     "name": "stdout",
     "output_type": "stream",
     "text": [
      "True\n"
     ]
    }
   ],
   "source": [
    "print(count_sessions_url()[0] ==  count_sessions()[0])"
   ]
  },
  {
   "cell_type": "markdown",
   "id": "cd13d37c",
   "metadata": {},
   "source": [
    "2. найти день, когда больше всего пользователей смотрели видео"
   ]
  },
  {
   "cell_type": "code",
   "execution_count": 51,
   "id": "c336fff5",
   "metadata": {},
   "outputs": [
    {
     "name": "stdout",
     "output_type": "stream",
     "text": [
      "Максимум: 3 (день 2020-04-06 13:35:01)\n"
     ]
    }
   ],
   "source": [
    "# Присвоение прочитанного файла в результате работы первой функции\n",
    "data = count_sessions()[1]\n",
    "# Условие на событие = 2 или параметр = video, удаляет дубликаты в столбцах с датой сессии и пользователем\n",
    "video_users = data[(data['event_type'] == 2) | (data['parameter'] == 'video')].drop_duplicates(['date','user'])\n",
    "# Подсчет уникального количества пользователей с группировкой по дням\n",
    "users_per_day = video_users.groupby('date')['user'].nunique()\n",
    "# День с максимумумом пользователей\n",
    "max_day = users_per_day.idxmax()\n",
    "max_users = users_per_day.max()\n",
    "# Вывод максимального количества пользователей и даты\n",
    "print(f\"Максимум: {max_users} (день {max_day})\")"
   ]
  },
  {
   "cell_type": "code",
   "execution_count": null,
   "id": "7106a5ef",
   "metadata": {},
   "outputs": [],
   "source": []
  }
 ],
 "metadata": {
  "kernelspec": {
   "display_name": "Python 3",
   "language": "python",
   "name": "python3"
  },
  "language_info": {
   "codemirror_mode": {
    "name": "ipython",
    "version": 3
   },
   "file_extension": ".py",
   "mimetype": "text/x-python",
   "name": "python",
   "nbconvert_exporter": "python",
   "pygments_lexer": "ipython3",
   "version": "3.12.4"
  }
 },
 "nbformat": 4,
 "nbformat_minor": 5
}

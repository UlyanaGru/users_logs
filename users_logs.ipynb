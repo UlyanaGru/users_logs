{
 "cells": [
  {
   "cell_type": "markdown",
   "id": "39cd0893",
   "metadata": {},
   "source": [
    "1. найти число событий в конкретный день"
   ]
  },
  {
   "cell_type": "code",
   "execution_count": 1,
   "id": "79b59d79",
   "metadata": {},
   "outputs": [],
   "source": [
    "import pandas as pd\n",
    "from datetime import datetime, timedelta\n",
    "\n",
    "def count_sessions():\n",
    "    '''Функция подсчета количества сессий'''\n",
    "    # Открыть файл для чтения\n",
    "    with open('log.csv', 'r') as f:\n",
    "        # Чтение файла формата csv\n",
    "        df = pd.read_csv(f)\n",
    "        # Преобразование времени в формат datetime\n",
    "        df['date'] = pd.to_datetime(df['date'], format='%Y-%m-%d_%H:%M:%S')\n",
    "        # Сортировка по пользователю и времени\n",
    "        df = df.sort_values(['user', 'date'])\n",
    "        # Вычисление разницы между событиями пользователя\n",
    "        df['time_diff'] = df.groupby('user')['date'].diff()\n",
    "        # Определяем начало новых сессий (разница >30 минут или первый эвент пользователя)\n",
    "        df['new_session'] = (df['time_diff'].isna()) | (df['time_diff'] > timedelta(minutes=30))\n",
    "        # Считаем сессии, начавшиеся 2020-04-19\n",
    "        target_date = pd.to_datetime('2020-04-19').date()\n",
    "        # Условие на новую сессию пользователя в нужную дату\n",
    "        sessions_count = df[df['new_session'] & (df['date'].dt.date == target_date)].shape[0]\n",
    "        return sessions_count"
   ]
  },
  {
   "cell_type": "code",
   "execution_count": 2,
   "id": "5e1bff30",
   "metadata": {},
   "outputs": [
    {
     "name": "stdout",
     "output_type": "stream",
     "text": [
      "5256\n"
     ]
    }
   ],
   "source": [
    "print(count_sessions())"
   ]
  }
 ],
 "metadata": {
  "kernelspec": {
   "display_name": "Python 3",
   "language": "python",
   "name": "python3"
  },
  "language_info": {
   "codemirror_mode": {
    "name": "ipython",
    "version": 3
   },
   "file_extension": ".py",
   "mimetype": "text/x-python",
   "name": "python",
   "nbconvert_exporter": "python",
   "pygments_lexer": "ipython3",
   "version": "3.12.4"
  }
 },
 "nbformat": 4,
 "nbformat_minor": 5
}
